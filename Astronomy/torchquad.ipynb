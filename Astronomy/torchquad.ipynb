{
 "cells": [
  {
   "cell_type": "code",
   "execution_count": 35,
   "metadata": {},
   "outputs": [],
   "source": [
    "import numpy as np\n",
    "import matplotlib.pyplot as plt\n",
    "import ipywidgets as widgets"
   ]
  },
  {
   "cell_type": "code",
   "execution_count": 2,
   "metadata": {},
   "outputs": [],
   "source": [
    "import scipy\n",
    "import numpy as np\n",
    "\n",
    "# For benchmarking\n",
    "import time\n",
    "from scipy.integrate import nquad\n",
    "\n",
    "# For plotting\n",
    "import matplotlib.pyplot as plt\n",
    "\n",
    "# To avoid copying things to GPU memory,\n",
    "# ideally allocate everything in torch on the GPU\n",
    "# and avoid non-torch function calls\n",
    "import torch\n",
    "torch.set_printoptions(precision=10) # Set displayed output precision to 10 digits\n",
    "\n",
    "from torchquad import set_up_backend  # Necessary to enable GPU support\n",
    "from torchquad import Trapezoid, Simpson, Boole, MonteCarlo, VEGAS # The available integrators\n",
    "from torchquad.utils.set_precision import set_precision\n",
    "import torchquad"
   ]
  },
  {
   "cell_type": "code",
   "execution_count": 3,
   "metadata": {},
   "outputs": [],
   "source": [
    "kB = 8.61733e-5 # eV / K\n",
    "me_c2 = 510998.92 # eV\n",
    "h = 4.13567e-15 # eV s"
   ]
  },
  {
   "cell_type": "code",
   "execution_count": 63,
   "metadata": {},
   "outputs": [],
   "source": [
    "def Ne(gamma, Te, gamma_th, Ce=1, n=3):\n",
    "    Te = torch.tensor([Te])\n",
    "    gamma_th = torch.tensor(gamma_th)\n",
    "    #gamma = torch.tensor(gamma)\n",
    "    Ce = torch.tensor(Ce)\n",
    "    n = torch.tensor(n)\n",
    "\n",
    "    Theta = kB * Te / me_c2\n",
    "\n",
    "    Ne_tensor = torch.zeros_like(gamma)\n",
    "\n",
    "    for i, i_gamma in enumerate(gamma):\n",
    "        Ne_tensor[i] = Ce*i_gamma**2*torch.exp(-i_gamma/Theta)/(2.*Theta**3) if i_gamma <= gamma_th else Ce*gamma_th**2*torch.exp(-gamma_th/Theta)*(i_gamma/gamma_th)**-n/(2.*Theta**3)\n",
    "\n",
    "    return Ne_tensor\n",
    "\n",
    "def beta(gamma):\n",
    "    return torch.sqrt(1 - 1/gamma**2)\n",
    "\n",
    "def e1(nu,theta,theta2,gamma,phi2):\n",
    "\n",
    "    #nu = torch.tensor(nu)\n",
    "    theta = torch.tensor(theta)\n",
    "    #theta2 = torch.tensor(theta2)\n",
    "    #gamma = torch.tensor(gamma)\n",
    "    #phi2 = torch.tensor(phi2)\n",
    "    \n",
    "    e0 = h*nu#*1e-3 #keV\n",
    "    cos_theta1 = torch.cos(theta)*torch.cos(theta2)+torch.sin(theta)*torch.sin(theta2)*torch.sin(phi2)\n",
    "    \n",
    "    return e0*(1-beta(gamma)*torch.cos(theta2))/(e0/(gamma*me_c2)*(1-torch.cos(theta))+1-beta(gamma)*cos_theta1)"
   ]
  },
  {
   "cell_type": "code",
   "execution_count": 68,
   "metadata": {},
   "outputs": [],
   "source": [
    "gamma = torch.logspace(1, 2, 25)\n",
    "nu = torch.logspace(13, 16, 25)"
   ]
  },
  {
   "cell_type": "code",
   "execution_count": 60,
   "metadata": {},
   "outputs": [
    {
     "data": {
      "application/vnd.jupyter.widget-view+json": {
       "model_id": "669a8f10f53047cf87f0747d2af72607",
       "version_major": 2,
       "version_minor": 0
      },
      "text/plain": [
       "VBox(children=(FloatSlider(value=10000000000.0, description='Te', max=100000000000.0, min=100000000.0, step=10…"
      ]
     },
     "metadata": {},
     "output_type": "display_data"
    },
    {
     "data": {
      "application/vnd.jupyter.widget-view+json": {
       "model_id": "ba0a30ef54d1476ea754f915a90c198d",
       "version_major": 2,
       "version_minor": 0
      },
      "text/plain": [
       "Output()"
      ]
     },
     "metadata": {},
     "output_type": "display_data"
    }
   ],
   "source": [
    "Te=widgets.FloatSlider(description='Te',min=1e8, max=1e11, step=1e8, value=1e10)\n",
    "gamma_th=widgets.FloatSlider(description='gamma_th',min=1, max=100, step=1, value=20)\n",
    "ui = widgets.VBox([Te, gamma_th])\n",
    "\n",
    "def electron_dist_img(Te, gamma_th):\n",
    "    fig = plt.figure(dpi=100)\n",
    "    ax = fig.add_subplot(111)\n",
    "\n",
    "    Ne_tensor = Ne(gamma, Te=Te, gamma_th=gamma_th)\n",
    "    ax.plot(gamma, Ne_tensor,label=f'$T_\\mathrm{{e}} = 10^{{{np.log10(Te):.1f}}}$ K')\n",
    "\n",
    "    ax.axvline(gamma_th, color='k', linestyle='--', label=r'$\\gamma_\\mathrm{th}$')\n",
    "\n",
    "    ax.set_xlabel(r'$\\gamma$')\n",
    "    ax.set_ylabel(r'$N_\\mathrm{e}/C_\\mathrm{e}$')\n",
    "    ax.set_yscale('log')\n",
    "    ax.set_ylim(1e-13, 1e2)\n",
    "    ax.legend()\n",
    "\n",
    "out = widgets.interactive_output(electron_dist_img, {'Te': Te, 'gamma_th': gamma_th})\n",
    "display(ui, out)"
   ]
  },
  {
   "cell_type": "code",
   "execution_count": 75,
   "metadata": {},
   "outputs": [
    {
     "data": {
      "application/vnd.jupyter.widget-view+json": {
       "model_id": "8a6cd5dd30bc426ab677ded1912615c5",
       "version_major": 2,
       "version_minor": 0
      },
      "text/plain": [
       "VBox(children=(FloatSlider(value=10000000000.0, description='Te', max=100000000000.0, min=100000000.0, step=10…"
      ]
     },
     "metadata": {},
     "output_type": "display_data"
    },
    {
     "data": {
      "application/vnd.jupyter.widget-view+json": {
       "model_id": "a5032b26ef6d4081b8d4a01440d546e9",
       "version_major": 2,
       "version_minor": 0
      },
      "text/plain": [
       "Output()"
      ]
     },
     "metadata": {},
     "output_type": "display_data"
    }
   ],
   "source": [
    "Te=widgets.FloatSlider(description='Te',min=1e8, max=1e11, step=1e8, value=1e10)\n",
    "gamma_th=widgets.FloatSlider(description='gamma_th',min=1, max=100, step=1, value=20)\n",
    "#nu=widgets.FloatSlider(description='nu',min=1e13, max=1e16, step=1e13, value=1e15)\n",
    "theta=widgets.FloatSlider(description='theta',min=0, max=np.pi, step=np.pi/16, value=np.pi/4)\n",
    "#theta2=widgets.FloatSlider(description='theta2',min=0, max=np.pi, step=np.pi/16, value=np.pi/4)\n",
    "#phi2=widgets.FloatSlider(description='phi2',min=0, max=2*np.pi, step=np.pi/16, value=np.pi/4)\n",
    "\n",
    "ui = widgets.VBox([Te, gamma_th, theta])\n",
    "\n",
    "def calc_img(Te, gamma_th, theta):\n",
    "\n",
    "    #e1_mean = func(theta2,phi2,nu,theta, Te, gamma_th,gamma)\n",
    "\n",
    "    fig = plt.figure(dpi=100,figsize=(15,5))\n",
    "    ax1 = fig.add_subplot(121)\n",
    "\n",
    "    Ne_tensor = Ne(gamma, Te=Te, gamma_th=gamma_th)\n",
    "    ax1.plot(gamma, Ne_tensor,label=rf'$T_\\mathrm{{e}} = 10^{{{np.log10(Te):.2f}}}$ K')\n",
    "\n",
    "    ax1.axvline(gamma_th, color='k', linestyle='--', label=rf'$\\gamma_\\mathrm{{th}} = {gamma_th:.1f}$')\n",
    "\n",
    "    ax1.set_xlabel(r'$\\gamma$')\n",
    "    ax1.set_ylabel(r'$N_\\mathrm{e}/C_\\mathrm{e}$')\n",
    "    ax1.set_yscale('log')\n",
    "    #ax1.set_ylim(1e-13, 1e2)\n",
    "    ax1.legend()\n",
    "\n",
    "\n",
    "    ax2 = fig.add_subplot(122)\n",
    "\n",
    "    final_value = []\n",
    "    for i_nu in nu:\n",
    "        function_values, _ = integrator.evaluate_integrand(lambda x: integrand(x,Te=Te,gamma_th=gamma_th,nu=i_nu,theta=theta), grid_points)\n",
    "        integral1 = integrator.calculate_result(function_values, dim, n_per_dim, hs, integration_domain)\n",
    "\n",
    "        function_values, _ = integrator.evaluate_integrand(lambda x: integrand2(x,Te=Te,gamma_th=gamma_th), grid_points)\n",
    "        integral2 = integrator.calculate_result(function_values, dim, n_per_dim, hs, integration_domain)\n",
    "\n",
    "        final_value.append(integral1/(4*np.pi*integral2))\n",
    "\n",
    "    ax2.plot(nu, final_value,label=fr'$T_\\mathrm{{e}} = 10^{{{np.log10(Te):.2f}}} K, \\gamma_\\mathrm{{th}} = {gamma_th:.1f}, \\theta = {theta:.1f}\\,\\mathrm{{rad}}$')\n",
    "\n",
    "    #ax.axvline(gamma_th, color='k', linestyle='--', label=r'$\\gamma_\\mathrm{th}$')\n",
    "    ax2.set_xlabel(r'$\\nu$')\n",
    "    ax2.set_ylabel(r'$<e1>$')\n",
    "    ax2.set_yscale('log')\n",
    "    ax2.set_xscale('log')\n",
    "    #ax2.set_ylim(1e-13, 1e2)\n",
    "    ax2.legend()\n",
    "\n",
    "out = widgets.interactive_output(calc_img, {'Te': Te, 'gamma_th': gamma_th, 'theta':theta})\n",
    "display(ui, out)\n",
    "\n",
    "#\n",
    "#\n",
    "#np.sum(val)\n",
    "\n",
    "#@latexify.function(use_math_symbols=True,reduce_assignments=True)\n",
    "#def mean_e1(nu, theta):\n",
    "#    return quadpy.quad(e1, 0, 2*np.pi, args=(theta,theta,gamma,0))\n",
    "#mean_e1\n",
    "\n",
    "#def calc_img(Te, gamma_th, nu, theta):\n",
    "#    print(Te, gamma_th, nu, theta)\n",
    "    #val = scheme.integrate_spherical(func,)\n",
    "    #print(val)\n",
    "\n",
    "# out = widgets.interactive_output(calc_img, {'Te': Te, 'gamma_th': gamma_th, 'nu':nu, 'theta':theta})\n",
    "# display(ui, out)"
   ]
  },
  {
   "cell_type": "code",
   "execution_count": 11,
   "metadata": {},
   "outputs": [],
   "source": [
    "def func(theta2_phi2,nu,theta,i_gamma):\n",
    "    theta2, phi2 = theta2_phi2\n",
    "    #val, error_estimate = quadpy.c1.integrate_adaptive(\n",
    "    #    lambda i_gamma: Ne(i_gamma,Te=Te,gamma_th=gamma_th)*e1(nu,theta,theta2,#i_gamma,phi2) , [1, 10]\n",
    "    #)\n",
    "    return e1(nu,theta,theta2,i_gamma,phi2)"
   ]
  },
  {
   "cell_type": "code",
   "execution_count": 12,
   "metadata": {},
   "outputs": [],
   "source": [
    "def func(theta2_phi2,x):\n",
    "    theta2, phi2 = theta2_phi2\n",
    "    #val, error_estimate = quadpy.c1.integrate_adaptive(\n",
    "    #    lambda i_gamma: Ne(i_gamma,Te=Te,gamma_th=gamma_th)*e1(nu,theta,theta2,#i_gamma,phi2) , [1, 10]\n",
    "    #)\n",
    "    #print(theta2.shape)\n",
    "    return x*np.linspace(0,1,theta2.shape[0])*np.sin(theta2)\n",
    "#val = scheme.integrate_spherical(func)\n",
    "#val"
   ]
  },
  {
   "cell_type": "code",
   "execution_count": 28,
   "metadata": {},
   "outputs": [
    {
     "name": "stderr",
     "output_type": "stream",
     "text": [
      "\u001b[32m14:49:39\u001b[0m|TQ-\u001b[34mWARNING\u001b[0m| \u001b[33m\u001b[1mError enabling CUDA. cuda.is_available() returned False. CPU will be used.\u001b[0m\n"
     ]
    }
   ],
   "source": [
    "# Use this to enable GPU support and set the floating point precision\n",
    "set_up_backend(\"torch\", data_type=\"float32\")"
   ]
  },
  {
   "cell_type": "code",
   "execution_count": 54,
   "metadata": {},
   "outputs": [],
   "source": [
    "real = 4/3*np.pi"
   ]
  },
  {
   "cell_type": "code",
   "execution_count": 37,
   "metadata": {},
   "outputs": [
    {
     "data": {
      "image/png": "[encoded data removed]",
      "text/plain": [
       "<Figure size 640x480 with 1 Axes>"
      ]
     },
     "metadata": {},
     "output_type": "display_data"
    }
   ],
   "source": [
    "import torch\n",
    "from torchquad import Boole\n",
    "\n",
    "def integrand(x,Te,gamma_th,nu,theta):\n",
    "    # gamma x[:,0]\n",
    "    # theta2 x[:,1]\n",
    "    # phi2 x[:,2]\n",
    "    return Ne(x[:,0], Te, gamma_th)*e1(nu,theta,x[:,1],x[:,0],x[:,2])*torch.sin(x[:,1])\n",
    "\n",
    "def integrand2(x,Te,gamma_th):\n",
    "    return Ne(x[:,0], Te, gamma_th)\n",
    "\n",
    "# The integration domain, dimensionality and number of evaluations\n",
    "# For the calculate_grid method we need a Tensor and not a list.\n",
    "integration_domain = torch.Tensor([[1., 100.], \n",
    "                                   [0., np.pi], \n",
    "                                   [0., 2*np.pi]])\n",
    "dim = 3\n",
    "N = 1024\n",
    "\n",
    "# Initialize the integrator\n",
    "integrator = Simpson()\n",
    "# Calculate sample points and grid information for the result calculation\n",
    "grid_points, hs, n_per_dim = integrator.calculate_grid(N, integration_domain)\n",
    "\n",
    "# Integrate the first integrand with the sample points\n",
    "final_value = []\n",
    "for i_nu in nu:\n",
    "    function_values, _ = integrator.evaluate_integrand(lambda x: integrand(x,Te=1e8,gamma_th=20,nu=i_nu,theta=np.pi/4), grid_points)\n",
    "    integral1 = integrator.calculate_result(function_values, dim, n_per_dim, hs, integration_domain)\n",
    "\n",
    "    function_values, _ = integrator.evaluate_integrand(lambda x: integrand2(x,Te=1e8,gamma_th=20), grid_points)\n",
    "    integral2 = integrator.calculate_result(function_values, dim, n_per_dim, hs, integration_domain)\n",
    "\n",
    "    final_value.append(integral1/(4*np.pi*integral2))\n",
    "plt.plot(nu, final_value)\n",
    "plt.xscale('log')\n",
    "plt.yscale('log')"
   ]
  },
  {
   "cell_type": "code",
   "execution_count": 53,
   "metadata": {},
   "outputs": [
    {
     "ename": "RuntimeError",
     "evalue": "The size of tensor a (384) must match the size of tensor b (81) at non-singleton dimension 0",
     "output_type": "error",
     "traceback": [
      "\u001b[0;31m---------------------------------------------------------------------------\u001b[0m",
      "\u001b[0;31mRuntimeError\u001b[0m                              Traceback (most recent call last)",
      "\u001b[1;32m/home/lrz/Documents/jupyterbook/Astronomy/Astronomy/torchquad.ipynb 单元格 14\u001b[0m line \u001b[0;36m2\n\u001b[1;32m      <a href='vscode-notebook-cell:/home/lrz/Documents/jupyterbook/Astronomy/Astronomy/torchquad.ipynb#X60sZmlsZQ%3D%3D?line=0'>1</a>\u001b[0m vegas \u001b[39m=\u001b[39m VEGAS()\n\u001b[0;32m----> <a href='vscode-notebook-cell:/home/lrz/Documents/jupyterbook/Astronomy/Astronomy/torchquad.ipynb#X60sZmlsZQ%3D%3D?line=1'>2</a>\u001b[0m result \u001b[39m=\u001b[39m vegas\u001b[39m.\u001b[39mintegrate(\u001b[39mlambda\u001b[39;00m x: integrand(x,Te\u001b[39m=\u001b[39m\u001b[39m1e8\u001b[39m,gamma_th\u001b[39m=\u001b[39m\u001b[39m20\u001b[39m,theta\u001b[39m=\u001b[39mnp\u001b[39m.\u001b[39mpi\u001b[39m/\u001b[39m\u001b[39m4\u001b[39m), dim\u001b[39m=\u001b[39mdim, N\u001b[39m=\u001b[39mN, integration_domain\u001b[39m=\u001b[39mintegration_domain)\n\u001b[1;32m      <a href='vscode-notebook-cell:/home/lrz/Documents/jupyterbook/Astronomy/Astronomy/torchquad.ipynb#X60sZmlsZQ%3D%3D?line=2'>3</a>\u001b[0m \u001b[39mprint\u001b[39m(result,(result\u001b[39m-\u001b[39mreal)\u001b[39m/\u001b[39mreal\u001b[39m*\u001b[39m\u001b[39m100\u001b[39m,\u001b[39m'\u001b[39m\u001b[39m%\u001b[39m\u001b[39m'\u001b[39m)\n",
      "File \u001b[0;32m~/Software/anaconda3/lib/python3.11/site-packages/torchquad/integration/vegas.py:138\u001b[0m, in \u001b[0;36mVEGAS.integrate\u001b[0;34m(self, fn, dim, N, integration_domain, seed, rng, use_grid_improve, eps_rel, eps_abs, max_iterations, use_warmup, backend)\u001b[0m\n\u001b[1;32m    135\u001b[0m \u001b[39mself\u001b[39m\u001b[39m.\u001b[39mit \u001b[39m=\u001b[39m \u001b[39m0\u001b[39m  \u001b[39m# iteration\u001b[39;00m\n\u001b[1;32m    137\u001b[0m \u001b[39mif\u001b[39;00m use_warmup:  \u001b[39m# warmup the adaptive map\u001b[39;00m\n\u001b[0;32m--> 138\u001b[0m     \u001b[39mself\u001b[39m\u001b[39m.\u001b[39m_warmup_grid(\u001b[39m5\u001b[39m, \u001b[39mself\u001b[39m\u001b[39m.\u001b[39m_starting_N \u001b[39m/\u001b[39m\u001b[39m/\u001b[39m \u001b[39m5\u001b[39m)\n\u001b[1;32m    140\u001b[0m \u001b[39m# Main loop\u001b[39;00m\n\u001b[1;32m    141\u001b[0m \u001b[39mwhile\u001b[39;00m \u001b[39mTrue\u001b[39;00m:\n",
      "File \u001b[0;32m~/Software/anaconda3/lib/python3.11/site-packages/torchquad/integration/vegas.py:245\u001b[0m, in \u001b[0;36mVEGAS._warmup_grid\u001b[0;34m(self, warmup_N_it, N_samples)\u001b[0m\n\u001b[1;32m    240\u001b[0m yrnd \u001b[39m=\u001b[39m (\n\u001b[1;32m    241\u001b[0m     \u001b[39mself\u001b[39m\u001b[39m.\u001b[39mrng\u001b[39m.\u001b[39muniform(size\u001b[39m=\u001b[39m[N_samples, \u001b[39mself\u001b[39m\u001b[39m.\u001b[39m_dim], dtype\u001b[39m=\u001b[39m\u001b[39mself\u001b[39m\u001b[39m.\u001b[39mdtype)\n\u001b[1;32m    242\u001b[0m     \u001b[39m*\u001b[39m \u001b[39m0.999999\u001b[39m\n\u001b[1;32m    243\u001b[0m )\n\u001b[1;32m    244\u001b[0m x \u001b[39m=\u001b[39m \u001b[39mself\u001b[39m\u001b[39m.\u001b[39mmap\u001b[39m.\u001b[39mget_X(yrnd)\n\u001b[0;32m--> 245\u001b[0m f_eval \u001b[39m=\u001b[39m \u001b[39mself\u001b[39m\u001b[39m.\u001b[39m_eval(x)\u001b[39m.\u001b[39msqueeze()\n\u001b[1;32m    246\u001b[0m jac \u001b[39m=\u001b[39m \u001b[39mself\u001b[39m\u001b[39m.\u001b[39mmap\u001b[39m.\u001b[39mget_Jac(yrnd)\n\u001b[1;32m    247\u001b[0m jf_vec \u001b[39m=\u001b[39m f_eval \u001b[39m*\u001b[39m jac\n",
      "File \u001b[0;32m~/Software/anaconda3/lib/python3.11/site-packages/torchquad/integration/base_integrator.py:40\u001b[0m, in \u001b[0;36mBaseIntegrator._eval\u001b[0;34m(self, points, weights, args)\u001b[0m\n\u001b[1;32m     32\u001b[0m \u001b[39mdef\u001b[39;00m \u001b[39m_eval\u001b[39m(\u001b[39mself\u001b[39m, points, weights\u001b[39m=\u001b[39m\u001b[39mNone\u001b[39;00m, args\u001b[39m=\u001b[39m\u001b[39mNone\u001b[39;00m):\n\u001b[1;32m     33\u001b[0m \u001b[39m    \u001b[39m\u001b[39m\"\"\"Call evaluate_integrand to evaluate self._fn function at the passed points and update self._nr_of_evals\u001b[39;00m\n\u001b[1;32m     34\u001b[0m \n\u001b[1;32m     35\u001b[0m \u001b[39m    Args:\u001b[39;00m\n\u001b[0;32m   (...)\u001b[0m\n\u001b[1;32m     38\u001b[0m \u001b[39m        args (list or tuple, optional): Any arguments required by the function. Defaults to None.\u001b[39;00m\n\u001b[1;32m     39\u001b[0m \u001b[39m    \"\"\"\u001b[39;00m\n\u001b[0;32m---> 40\u001b[0m     result, num_points \u001b[39m=\u001b[39m \u001b[39mself\u001b[39m\u001b[39m.\u001b[39mevaluate_integrand(\n\u001b[1;32m     41\u001b[0m         \u001b[39mself\u001b[39m\u001b[39m.\u001b[39m_fn, points, weights\u001b[39m=\u001b[39mweights, args\u001b[39m=\u001b[39margs\n\u001b[1;32m     42\u001b[0m     )\n\u001b[1;32m     43\u001b[0m     \u001b[39mself\u001b[39m\u001b[39m.\u001b[39m_nr_of_fevals \u001b[39m+\u001b[39m\u001b[39m=\u001b[39m num_points\n\u001b[1;32m     44\u001b[0m     \u001b[39mreturn\u001b[39;00m result\n",
      "File \u001b[0;32m~/Software/anaconda3/lib/python3.11/site-packages/torchquad/integration/base_integrator.py:65\u001b[0m, in \u001b[0;36mBaseIntegrator.evaluate_integrand\u001b[0;34m(fn, points, weights, args)\u001b[0m\n\u001b[1;32m     62\u001b[0m \u001b[39mif\u001b[39;00m args \u001b[39mis\u001b[39;00m \u001b[39mNone\u001b[39;00m:\n\u001b[1;32m     63\u001b[0m     args \u001b[39m=\u001b[39m ()\n\u001b[0;32m---> 65\u001b[0m result \u001b[39m=\u001b[39m fn(points, \u001b[39m*\u001b[39margs)\n\u001b[1;32m     67\u001b[0m \u001b[39mif\u001b[39;00m infer_backend(result) \u001b[39m!=\u001b[39m infer_backend(points):\n\u001b[1;32m     68\u001b[0m     warnings\u001b[39m.\u001b[39mwarn(\n\u001b[1;32m     69\u001b[0m         \u001b[39m\"\u001b[39m\u001b[39mThe passed function\u001b[39m\u001b[39m'\u001b[39m\u001b[39ms return value has a different numerical backend than the passed points. Will try to convert. Note that this may be slow as it results in memory transfers between CPU and GPU, if torchquad uses the GPU.\u001b[39m\u001b[39m\"\u001b[39m\n\u001b[1;32m     70\u001b[0m     )\n",
      "File \u001b[0;32m~/Software/anaconda3/lib/python3.11/site-packages/torchquad/integration/vegas.py:110\u001b[0m, in \u001b[0;36mVEGAS.integrate.<locals>.transformed_integrand\u001b[0;34m(x)\u001b[0m\n\u001b[1;32m    109\u001b[0m \u001b[39mdef\u001b[39;00m \u001b[39mtransformed_integrand\u001b[39m(x):\n\u001b[0;32m--> 110\u001b[0m     \u001b[39mreturn\u001b[39;00m fn(x \u001b[39m*\u001b[39m domain_sizes \u001b[39m+\u001b[39m domain_starts) \u001b[39m*\u001b[39m domain_volume\n",
      "\u001b[1;32m/home/lrz/Documents/jupyterbook/Astronomy/Astronomy/torchquad.ipynb 单元格 14\u001b[0m line \u001b[0;36m2\n\u001b[1;32m      <a href='vscode-notebook-cell:/home/lrz/Documents/jupyterbook/Astronomy/Astronomy/torchquad.ipynb#X60sZmlsZQ%3D%3D?line=0'>1</a>\u001b[0m vegas \u001b[39m=\u001b[39m VEGAS()\n\u001b[0;32m----> <a href='vscode-notebook-cell:/home/lrz/Documents/jupyterbook/Astronomy/Astronomy/torchquad.ipynb#X60sZmlsZQ%3D%3D?line=1'>2</a>\u001b[0m result \u001b[39m=\u001b[39m vegas\u001b[39m.\u001b[39mintegrate(\u001b[39mlambda\u001b[39;00m x: integrand(x,Te\u001b[39m=\u001b[39m\u001b[39m1e8\u001b[39m,gamma_th\u001b[39m=\u001b[39m\u001b[39m20\u001b[39m,theta\u001b[39m=\u001b[39mnp\u001b[39m.\u001b[39mpi\u001b[39m/\u001b[39m\u001b[39m4\u001b[39m), dim\u001b[39m=\u001b[39mdim, N\u001b[39m=\u001b[39mN, integration_domain\u001b[39m=\u001b[39mintegration_domain)\n\u001b[1;32m      <a href='vscode-notebook-cell:/home/lrz/Documents/jupyterbook/Astronomy/Astronomy/torchquad.ipynb#X60sZmlsZQ%3D%3D?line=2'>3</a>\u001b[0m \u001b[39mprint\u001b[39m(result,(result\u001b[39m-\u001b[39mreal)\u001b[39m/\u001b[39mreal\u001b[39m*\u001b[39m\u001b[39m100\u001b[39m,\u001b[39m'\u001b[39m\u001b[39m%\u001b[39m\u001b[39m'\u001b[39m)\n",
      "\u001b[1;32m/home/lrz/Documents/jupyterbook/Astronomy/Astronomy/torchquad.ipynb 单元格 14\u001b[0m line \u001b[0;36m8\n\u001b[1;32m      <a href='vscode-notebook-cell:/home/lrz/Documents/jupyterbook/Astronomy/Astronomy/torchquad.ipynb#X60sZmlsZQ%3D%3D?line=3'>4</a>\u001b[0m \u001b[39mdef\u001b[39;00m \u001b[39mintegrand\u001b[39m(x,Te,gamma_th,theta):\n\u001b[1;32m      <a href='vscode-notebook-cell:/home/lrz/Documents/jupyterbook/Astronomy/Astronomy/torchquad.ipynb#X60sZmlsZQ%3D%3D?line=4'>5</a>\u001b[0m     \u001b[39m# gamma x[:,0]\u001b[39;00m\n\u001b[1;32m      <a href='vscode-notebook-cell:/home/lrz/Documents/jupyterbook/Astronomy/Astronomy/torchquad.ipynb#X60sZmlsZQ%3D%3D?line=5'>6</a>\u001b[0m     \u001b[39m# theta2 x[:,1]\u001b[39;00m\n\u001b[1;32m      <a href='vscode-notebook-cell:/home/lrz/Documents/jupyterbook/Astronomy/Astronomy/torchquad.ipynb#X60sZmlsZQ%3D%3D?line=6'>7</a>\u001b[0m     \u001b[39m# phi2 x[:,2]\u001b[39;00m\n\u001b[0;32m----> <a href='vscode-notebook-cell:/home/lrz/Documents/jupyterbook/Astronomy/Astronomy/torchquad.ipynb#X60sZmlsZQ%3D%3D?line=7'>8</a>\u001b[0m     \u001b[39mreturn\u001b[39;00m Ne(x[:,\u001b[39m0\u001b[39m], Te, gamma_th)\u001b[39m*\u001b[39me1(nu,theta,x[:,\u001b[39m1\u001b[39m],x[:,\u001b[39m0\u001b[39m],x[:,\u001b[39m2\u001b[39m])\u001b[39m*\u001b[39mtorch\u001b[39m.\u001b[39msin(x[:,\u001b[39m1\u001b[39m])\n",
      "\u001b[1;32m/home/lrz/Documents/jupyterbook/Astronomy/Astronomy/torchquad.ipynb 单元格 14\u001b[0m line \u001b[0;36m3\n\u001b[1;32m     <a href='vscode-notebook-cell:/home/lrz/Documents/jupyterbook/Astronomy/Astronomy/torchquad.ipynb#X60sZmlsZQ%3D%3D?line=27'>28</a>\u001b[0m e0 \u001b[39m=\u001b[39m h\u001b[39m*\u001b[39mnu\n\u001b[1;32m     <a href='vscode-notebook-cell:/home/lrz/Documents/jupyterbook/Astronomy/Astronomy/torchquad.ipynb#X60sZmlsZQ%3D%3D?line=28'>29</a>\u001b[0m cos_theta1 \u001b[39m=\u001b[39m torch\u001b[39m.\u001b[39mcos(theta)\u001b[39m*\u001b[39mtorch\u001b[39m.\u001b[39mcos(theta2)\u001b[39m+\u001b[39mtorch\u001b[39m.\u001b[39msin(theta)\u001b[39m*\u001b[39mtorch\u001b[39m.\u001b[39msin(theta2)\u001b[39m*\u001b[39mtorch\u001b[39m.\u001b[39msin(phi2)\n\u001b[0;32m---> <a href='vscode-notebook-cell:/home/lrz/Documents/jupyterbook/Astronomy/Astronomy/torchquad.ipynb#X60sZmlsZQ%3D%3D?line=30'>31</a>\u001b[0m \u001b[39mreturn\u001b[39;00m e0\u001b[39m*\u001b[39m(\u001b[39m1\u001b[39m\u001b[39m-\u001b[39mbeta(gamma)\u001b[39m*\u001b[39mtorch\u001b[39m.\u001b[39mcos(theta2))\u001b[39m/\u001b[39m(e0\u001b[39m/\u001b[39m(gamma\u001b[39m*\u001b[39mme_c2)\u001b[39m*\u001b[39m(\u001b[39m1\u001b[39m\u001b[39m-\u001b[39mtorch\u001b[39m.\u001b[39mcos(theta))\u001b[39m+\u001b[39m\u001b[39m1\u001b[39m\u001b[39m-\u001b[39mbeta(gamma)\u001b[39m*\u001b[39mcos_theta1)\n",
      "\u001b[0;31mRuntimeError\u001b[0m: The size of tensor a (384) must match the size of tensor b (81) at non-singleton dimension 0"
     ]
    }
   ],
   "source": [
    "vegas = VEGAS()\n",
    "result = vegas.integrate(lambda x: integrand(x,Te=1e8,gamma_th=20,theta=np.pi/4), dim=dim, N=N, integration_domain=integration_domain)\n",
    "print(result,(result-real)/real*100,'%')"
   ]
  },
  {
   "cell_type": "code",
   "execution_count": 49,
   "metadata": {},
   "outputs": [
    {
     "data": {
      "text/plain": [
       "4.1887902047863905"
      ]
     },
     "execution_count": 49,
     "metadata": {},
     "output_type": "execute_result"
    }
   ],
   "source": []
  },
  {
   "cell_type": "code",
   "execution_count": 48,
   "metadata": {},
   "outputs": [
    {
     "data": {
      "text/plain": [
       "tensor(4.1790060997)"
      ]
     },
     "execution_count": 48,
     "metadata": {},
     "output_type": "execute_result"
    }
   ],
   "source": [
    "result"
   ]
  },
  {
   "cell_type": "code",
   "execution_count": 34,
   "metadata": {},
   "outputs": [],
   "source": [
    "def parametrized_integrand(x, a, b):\n",
    "    return torch.sqrt(torch.cos(torch.sin((a + b) * x)))\n",
    "\n",
    "a_params = torch.arange(40)\n",
    "b_params = torch.arange(10, 20)\n",
    "integration_domain = torch.Tensor([[0, 1]])\n",
    "simp = Simpson()\n",
    "result = torch.stack([torch.Tensor([simp.integrate(lambda x: parametrized_integrand(x, a, b), dim=1, N=101, integration_domain=integration_domain) for a in a_params]) for b in b_params])"
   ]
  },
  {
   "cell_type": "code",
   "execution_count": 35,
   "metadata": {},
   "outputs": [
    {
     "data": {
      "text/plain": [
       "tensor(True)"
      ]
     },
     "execution_count": 35,
     "metadata": {},
     "output_type": "execute_result"
    }
   ],
   "source": [
    "grid = torch.stack([torch.Tensor([a + b for a in a_params]) for b in b_params])\n",
    "\n",
    "def integrand(x):\n",
    "    return torch.sqrt(torch.cos(torch.sin(torch.einsum(\"i,jk->ijk\", x.flatten(), grid))))\n",
    "\n",
    "result_vectorized = simp.integrate(integrand, dim=1, N=101, integration_domain=integration_domain)\n",
    "\n",
    "torch.all(torch.isclose(result_vectorized, result)) # True!"
   ]
  },
  {
   "cell_type": "code",
   "execution_count": 45,
   "metadata": {},
   "outputs": [
    {
     "data": {
      "text/plain": [
       "tensor(1.7724538509, dtype=torch.float64)"
      ]
     },
     "execution_count": 45,
     "metadata": {},
     "output_type": "execute_result"
    }
   ],
   "source": [
    "import scipy\n",
    "from torchquad import Gaussian\n",
    "from autoray import numpy as anp\n",
    "\n",
    "class GaussHermite(Gaussian):\n",
    "    \"\"\"\n",
    "    Gauss Hermite quadrature rule in torch, for integrals of the form :math:`\\\\int_{-\\\\infty}^{+\\\\infty} e^{-x^{2}} f(x) dx`. It will correctly integrate\n",
    "    polynomials of degree :math:`2n - 1` or less over the interval\n",
    "    :math:`[-\\\\infty, \\\\infty]` with weight function :math:`f(x) = e^{-x^2}`. See https://en.wikipedia.org/wiki/Gauss%E2%80%93Hermite_quadrature\n",
    "    \"\"\"\n",
    "\n",
    "    def __init__(self):\n",
    "        super().__init__()\n",
    "        self.name = \"Gauss-Hermite\"\n",
    "        self._root_fn = scipy.special.roots_hermite\n",
    "\n",
    "    @staticmethod\n",
    "    def _apply_composite_rule(cur_dim_areas, dim, hs, domain):\n",
    "        \"\"\"Apply \"composite\" rule for gaussian integrals\n",
    "        cur_dim_areas will contain the areas per dimension\n",
    "        \"\"\"\n",
    "        # We collapse dimension by dimension\n",
    "        for _ in range(dim):\n",
    "            cur_dim_areas = anp.sum(cur_dim_areas, axis=len(cur_dim_areas.shape) - 1)\n",
    "        return cur_dim_areas\n",
    "\n",
    "gh=GaussHermite()\n",
    "integral=gh.integrate(lambda x: 1-x,dim=1,N=2000) #integral from -inf to inf of np.exp(-(x**2))*(1-x)\n",
    "# Computed integral was 1.7724538509055168.\n",
    "# analytic result = sqrt(pi)\n",
    "integral"
   ]
  },
  {
   "cell_type": "code",
   "execution_count": 37,
   "metadata": {},
   "outputs": [],
   "source": [
    "# conda install \"cudatoolkit>=11.1\" \"pytorch>=1.9=*cuda*\" -c conda-forge -c pytorch\n",
    "# conda install torchquad -c conda-forge\n",
    "# https://arxiv.org/pdf/2009.05112.pdf"
   ]
  },
  {
   "cell_type": "code",
   "execution_count": null,
   "metadata": {},
   "outputs": [],
   "source": []
  },
  {
   "cell_type": "code",
   "execution_count": null,
   "metadata": {},
   "outputs": [],
   "source": []
  }
 ],
 "metadata": {
  "kernelspec": {
   "display_name": "base",
   "language": "python",
   "name": "python3"
  },
  "language_info": {
   "codemirror_mode": {
    "name": "ipython",
    "version": 3
   },
   "file_extension": ".py",
   "mimetype": "text/x-python",
   "name": "python",
   "nbconvert_exporter": "python",
   "pygments_lexer": "ipython3",
   "version": "3.11.5"
  }
 },
 "nbformat": 4,
 "nbformat_minor": 2
}
