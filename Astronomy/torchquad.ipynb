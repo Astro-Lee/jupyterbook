{
 "cells": [
  {
   "cell_type": "code",
   "execution_count": 4,
   "metadata": {},
   "outputs": [],
   "source": [
    "# import quadpy,latexify\n",
    "import numpy as np\n",
    "import matplotlib.pyplot as plt\n",
    "import ipywidgets as widgets"
   ]
  },
  {
   "cell_type": "code",
   "execution_count": 2,
   "metadata": {},
   "outputs": [],
   "source": [
    "kB = 8.61733e-5 # eV / K\n",
    "me_c2 = 510998.92 # eV\n",
    "h = 4.13567e-15 # eV s"
   ]
  },
  {
   "cell_type": "code",
   "execution_count": 5,
   "metadata": {},
   "outputs": [],
   "source": [
    "#@latexify.function(use_math_symbols=True,reduce_assignments=False)\n",
    "def Ne(i_gamma, Te, gamma_th, Ce=1, n=3):\n",
    "    Theta = kB * Te / me_c2\n",
    "\n",
    "    return Ce*i_gamma**2*np.exp(-i_gamma/Theta)/(2.*Theta**3) if i_gamma <= gamma_th else Ce*gamma_th**2*np.exp(-gamma_th/Theta)*(i_gamma/gamma_th)**-n/(2.*Theta**3)\n",
    "#Ne"
   ]
  },
  {
   "cell_type": "code",
   "execution_count": 6,
   "metadata": {},
   "outputs": [],
   "source": [
    "gamma = np.linspace(1, 100, 1000)"
   ]
  },
  {
   "cell_type": "code",
   "execution_count": 7,
   "metadata": {},
   "outputs": [
    {
     "data": {
      "application/vnd.jupyter.widget-view+json": {
       "model_id": "fb8d753beea446ac8cd337bbdbd0ba5f",
       "version_major": 2,
       "version_minor": 0
      },
      "text/plain": [
       "VBox(children=(FloatSlider(value=10000000000.0, description='Te', max=100000000000.0, min=100000000.0, step=10…"
      ]
     },
     "metadata": {},
     "output_type": "display_data"
    },
    {
     "data": {
      "application/vnd.jupyter.widget-view+json": {
       "model_id": "4aadc8114c8a43269063126320297200",
       "version_major": 2,
       "version_minor": 0
      },
      "text/plain": [
       "Output()"
      ]
     },
     "metadata": {},
     "output_type": "display_data"
    }
   ],
   "source": [
    "Te=widgets.FloatSlider(description='Te',min=1e8, max=1e11, step=1e8, value=1e10)\n",
    "gamma_th=widgets.FloatSlider(description='gamma_th',min=1, max=100, step=1, value=20)\n",
    "ui = widgets.VBox([Te, gamma_th])\n",
    "\n",
    "def electron_dist_img(Te, gamma_th):\n",
    "    fig = plt.figure(dpi=100)\n",
    "    ax = fig.add_subplot(111)\n",
    "\n",
    "    Ne_arr = np.zeros_like(gamma)\n",
    "    for i, i_gamma in enumerate(gamma):\n",
    "        Ne_arr[i] = Ne(i_gamma, Te=Te, gamma_th=gamma_th)\n",
    "\n",
    "    ax.plot(gamma, Ne_arr,label=f'$T_\\mathrm{{e}} = 10^{{{np.log10(Te):.1f}}}$ K')\n",
    "\n",
    "    ax.axvline(gamma_th, color='k', linestyle='--', label=r'$\\gamma_\\mathrm{th}$')\n",
    "\n",
    "    ax.set_xlabel(r'$\\gamma$')\n",
    "    ax.set_ylabel(r'$N_\\mathrm{e}/C_\\mathrm{e}$')\n",
    "    ax.set_yscale('log')\n",
    "    ax.set_ylim(1e-13, 1e2)\n",
    "    ax.legend()\n",
    "\n",
    "out = widgets.interactive_output(electron_dist_img, {'Te': Te, 'gamma_th': gamma_th})\n",
    "display(ui, out)"
   ]
  },
  {
   "cell_type": "code",
   "execution_count": 8,
   "metadata": {},
   "outputs": [],
   "source": [
    "#@latexify.function(use_math_symbols=True)\n",
    "def beta(i_gamma):\n",
    "    return np.sqrt(1 - 1/i_gamma**2)\n",
    "#beta"
   ]
  },
  {
   "cell_type": "code",
   "execution_count": 9,
   "metadata": {},
   "outputs": [],
   "source": [
    "#@latexify.function(use_math_symbols=True,reduce_assignments=False)\n",
    "def e1(nu,theta,theta2,i_gamma,phi2):\n",
    "    e0 = h*nu\n",
    "    cos_theta1 = np.cos(theta)*np.cos(theta2)+np.sin(theta)*np.sin(theta2)*np.sin(phi2)\n",
    "    \n",
    "    return e0*(1-beta(i_gamma)*np.cos(theta2))/(e0/(i_gamma*me_c2)*(1-np.cos(theta))+1-beta(i_gamma)*cos_theta1)\n",
    "#e1"
   ]
  },
  {
   "cell_type": "code",
   "execution_count": 10,
   "metadata": {},
   "outputs": [],
   "source": [
    "Te=widgets.FloatSlider(description='Te',min=1e8, max=1e11, step=1e8, value=1e10)\n",
    "gamma_th=widgets.FloatSlider(description='gamma_th',min=1, max=100, step=1, value=20)\n",
    "nu=widgets.FloatSlider(description='nu',min=1e13, max=1e16, step=1e13, value=1e15)\n",
    "theta=widgets.FloatSlider(description='theta',min=0, max=np.pi, step=np.pi/16, value=np.pi/4)\n",
    "ui = widgets.VBox([Te, gamma_th, nu, theta])\n",
    "\n",
    "\n",
    "#被积函数\n",
    "# scheme = quadpy.u3.get_good_scheme(47)\n",
    "def func(theta2_phi2,nu,theta,i_gamma):\n",
    "    theta2, phi2 = theta2_phi2\n",
    "    #val, error_estimate = quadpy.c1.integrate_adaptive(\n",
    "    #    lambda i_gamma: Ne(i_gamma,Te=Te,gamma_th=gamma_th)*e1(nu,theta,theta2,#i_gamma,phi2) , [1, 10]\n",
    "    #)\n",
    "    return e1(nu,theta,theta2,i_gamma,phi2)\n",
    "\n",
    "#\n",
    "#\n",
    "#np.sum(val)\n",
    "\n",
    "#@latexify.function(use_math_symbols=True,reduce_assignments=True)\n",
    "#def mean_e1(nu, theta):\n",
    "#    return quadpy.quad(e1, 0, 2*np.pi, args=(theta,theta,gamma,0))\n",
    "#mean_e1\n",
    "\n",
    "def calc_img(Te, gamma_th, nu, theta):\n",
    "    print(Te, gamma_th, nu, theta)\n",
    "    #val = scheme.integrate_spherical(func,)\n",
    "    #print(val)\n",
    "\n",
    "# out = widgets.interactive_output(calc_img, {'Te': Te, 'gamma_th': gamma_th, 'nu':nu, 'theta':theta})\n",
    "# display(ui, out)"
   ]
  },
  {
   "cell_type": "code",
   "execution_count": 11,
   "metadata": {},
   "outputs": [],
   "source": [
    "def func(theta2_phi2,nu,theta,i_gamma):\n",
    "    theta2, phi2 = theta2_phi2\n",
    "    #val, error_estimate = quadpy.c1.integrate_adaptive(\n",
    "    #    lambda i_gamma: Ne(i_gamma,Te=Te,gamma_th=gamma_th)*e1(nu,theta,theta2,#i_gamma,phi2) , [1, 10]\n",
    "    #)\n",
    "    return e1(nu,theta,theta2,i_gamma,phi2)"
   ]
  },
  {
   "cell_type": "code",
   "execution_count": 12,
   "metadata": {},
   "outputs": [],
   "source": [
    "def func(theta2_phi2,x):\n",
    "    theta2, phi2 = theta2_phi2\n",
    "    #val, error_estimate = quadpy.c1.integrate_adaptive(\n",
    "    #    lambda i_gamma: Ne(i_gamma,Te=Te,gamma_th=gamma_th)*e1(nu,theta,theta2,#i_gamma,phi2) , [1, 10]\n",
    "    #)\n",
    "    #print(theta2.shape)\n",
    "    return x*np.linspace(0,1,theta2.shape[0])*np.sin(theta2)\n",
    "#val = scheme.integrate_spherical(func)\n",
    "#val"
   ]
  },
  {
   "cell_type": "code",
   "execution_count": 13,
   "metadata": {},
   "outputs": [
    {
     "data": {
      "text/plain": [
       "14.76801374576529"
      ]
     },
     "execution_count": 13,
     "metadata": {},
     "output_type": "execute_result"
    }
   ],
   "source": [
    "import numpy as np\n",
    "import quadpy\n",
    "\n",
    "scheme = quadpy.u3.get_good_scheme(19)\n",
    "# scheme.show()\n",
    "val = scheme.integrate(lambda x: np.exp(x[0]), [0.0, 0.0, 0.0], 1.0)\n",
    "val"
   ]
  },
  {
   "cell_type": "code",
   "execution_count": 38,
   "metadata": {},
   "outputs": [
    {
     "name": "stderr",
     "output_type": "stream",
     "text": [
      "\u001b[32m14:41:04\u001b[0m|TQ-\u001b[34mWARNING\u001b[0m| \u001b[33m\u001b[1mError enabling CUDA. cuda.is_available() returned False. CPU will be used.\u001b[0m\n"
     ]
    },
    {
     "data": {
      "text/plain": [
       "tensor(3.2736384869)"
      ]
     },
     "execution_count": 38,
     "metadata": {},
     "output_type": "execute_result"
    }
   ],
   "source": [
    "# To avoid copying things to GPU memory,\n",
    "# ideally allocate everything in torch on the GPU\n",
    "# and avoid non-torch function calls\n",
    "import torch\n",
    "from torchquad import MonteCarlo, set_up_backend\n",
    "\n",
    "# Enable GPU support if available and set the floating point precision\n",
    "set_up_backend(\"torch\", data_type=\"float32\")\n",
    "\n",
    "# The function we want to integrate, in this example\n",
    "# f(x0,x1) = sin(x0) + e^x1 for x0=[0,1] and x1=[-1,1]\n",
    "# Note that the function needs to support multiple evaluations at once (first\n",
    "# dimension of x here)\n",
    "# Expected result here is ~3.2698\n",
    "def some_function(x):\n",
    "    return torch.sin(x[:, 0]) + torch.exp(x[:, 1])\n",
    "\n",
    "# Declare an integrator;\n",
    "# here we use the simple, stochastic Monte Carlo integration method\n",
    "mc = MonteCarlo()\n",
    "\n",
    "# Compute the function integral by sampling 10000 points over domain\n",
    "integral_value = mc.integrate(\n",
    "    some_function,\n",
    "    dim=2,\n",
    "    N=10000,\n",
    "    integration_domain=[[0, 1], [-1, 1]],\n",
    "    backend=\"torch\",\n",
    ")\n",
    "integral_value"
   ]
  },
  {
   "cell_type": "code",
   "execution_count": 15,
   "metadata": {},
   "outputs": [],
   "source": [
    "import scipy\n",
    "import numpy as np\n",
    "\n",
    "# For benchmarking\n",
    "import time\n",
    "from scipy.integrate import nquad\n",
    "\n",
    "# For plotting\n",
    "import matplotlib.pyplot as plt\n",
    "\n",
    "# To avoid copying things to GPU memory,\n",
    "# ideally allocate everything in torch on the GPU\n",
    "# and avoid non-torch function calls\n",
    "import torch\n",
    "torch.set_printoptions(precision=10) # Set displayed output precision to 10 digits\n",
    "\n",
    "from torchquad import set_up_backend  # Necessary to enable GPU support\n",
    "from torchquad import Trapezoid, Simpson, Boole, MonteCarlo, VEGAS # The available integrators\n",
    "from torchquad.utils.set_precision import set_precision\n",
    "import torchquad"
   ]
  },
  {
   "cell_type": "code",
   "execution_count": 16,
   "metadata": {},
   "outputs": [
    {
     "name": "stderr",
     "output_type": "stream",
     "text": [
      "\u001b[32m14:40:28\u001b[0m|TQ-\u001b[34mWARNING\u001b[0m| \u001b[33m\u001b[1mError enabling CUDA. cuda.is_available() returned False. CPU will be used.\u001b[0m\n"
     ]
    }
   ],
   "source": [
    "# Use this to enable GPU support and set the floating point precision\n",
    "set_up_backend(\"torch\", data_type=\"float32\")"
   ]
  },
  {
   "cell_type": "code",
   "execution_count": 17,
   "metadata": {},
   "outputs": [],
   "source": [
    "def f(x):\n",
    "\n",
    "    return torch.exp(x) * torch.pow(x, 2)\n",
    "\n",
    "def print_error(result, solution):\n",
    "    print(\"Results:\", result.item())\n",
    "    print(f\"Abs. Error: {(torch.abs(result - solution).item()):.8e}\")\n",
    "    print(f\"Rel. Error: {(torch.abs((result - solution) / solution).item()):.8e}\")\n",
    "\n",
    "solution = 2 * (torch.exp(torch.tensor([2.0])) - 1)"
   ]
  },
  {
   "cell_type": "code",
   "execution_count": 18,
   "metadata": {},
   "outputs": [
    {
     "data": {
      "text/plain": [
       "Text(0, 0.5, 'f($x$)')"
      ]
     },
     "execution_count": 18,
     "metadata": {},
     "output_type": "execute_result"
    },
    {
     "data": {
      "image/png": "[encoded data removed]",
      "text/plain": [
       "<Figure size 640x480 with 1 Axes>"
      ]
     },
     "metadata": {},
     "output_type": "display_data"
    }
   ],
   "source": [
    "points = torch.linspace(0, 2, 100)\n",
    "# Note that for plotting we have to move the values to the CPU first\n",
    "plt.plot(points.cpu(), f(points).cpu())\n",
    "plt.xlabel(\"$x$\", fontsize=14)\n",
    "plt.ylabel(\"f($x$)\", fontsize=14)"
   ]
  },
  {
   "cell_type": "code",
   "execution_count": 19,
   "metadata": {},
   "outputs": [],
   "source": [
    "# Integration domain is a list of lists to allow arbitrary dimensionality.\n",
    "integration_domain = [[0, 2]]\n",
    "# Initialize a trapezoid solver\n",
    "tp = Trapezoid()"
   ]
  },
  {
   "cell_type": "code",
   "execution_count": 39,
   "metadata": {},
   "outputs": [
    {
     "name": "stdout",
     "output_type": "stream",
     "text": [
      "Results: 0.718349814414978\n",
      "Abs. Error: 3.87862730e+00\n",
      "Rel. Error: 8.43734264e-01\n"
     ]
    }
   ],
   "source": [
    "result = tp.integrate(f, dim=1, N=101, integration_domain=integration_domain)\n",
    "print_error(result, solution)"
   ]
  },
  {
   "cell_type": "code",
   "execution_count": 21,
   "metadata": {},
   "outputs": [
    {
     "name": "stdout",
     "output_type": "stream",
     "text": [
      "Results: 12.778112411499023\n",
      "Abs. Error: 0.00000000e+00\n",
      "Rel. Error: 0.00000000e+00\n"
     ]
    }
   ],
   "source": [
    "simp = Simpson()\n",
    "result = simp.integrate(f, dim=1, N=101, integration_domain=integration_domain)\n",
    "print_error(result, solution)"
   ]
  },
  {
   "cell_type": "code",
   "execution_count": 22,
   "metadata": {},
   "outputs": [
    {
     "name": "stdout",
     "output_type": "stream",
     "text": [
      "Results: 12.366924285888672\n",
      "Abs. Error: 4.11188126e-01\n",
      "Rel. Error: 3.21790986e-02\n"
     ]
    }
   ],
   "source": [
    "mc = MonteCarlo()\n",
    "result = mc.integrate(f, dim=1, N=101, integration_domain=integration_domain)\n",
    "print_error(result, solution)"
   ]
  },
  {
   "cell_type": "code",
   "execution_count": 23,
   "metadata": {},
   "outputs": [
    {
     "name": "stdout",
     "output_type": "stream",
     "text": [
      "Results: 12.842772483825684\n",
      "Abs. Error: 6.46600723e-02\n",
      "Rel. Error: 5.06022107e-03\n"
     ]
    }
   ],
   "source": [
    "vegas = VEGAS()\n",
    "result = vegas.integrate(f, dim=1, N=1001, integration_domain=integration_domain)\n",
    "print_error(result, solution)"
   ]
  },
  {
   "cell_type": "code",
   "execution_count": 41,
   "metadata": {},
   "outputs": [],
   "source": [
    "def f_2(x):\n",
    "    return torch.sum(torch.sin(x), dim=1)\n",
    "\n",
    "\n",
    "solution = 20 * (torch.sin(torch.tensor([0.5])) * torch.sin(torch.tensor([0.5])))"
   ]
  },
  {
   "cell_type": "code",
   "execution_count": 42,
   "metadata": {},
   "outputs": [],
   "source": [
    "# Integration domain is a list of lists to allow arbitrary dimensionality\n",
    "integration_domain = [[0, 1]] * 10\n",
    "N = 3 ** 10"
   ]
  },
  {
   "cell_type": "code",
   "execution_count": 26,
   "metadata": {},
   "outputs": [
    {
     "name": "stdout",
     "output_type": "stream",
     "text": [
      "Results: 4.500804424285889\n",
      "Abs. Error: 9.61728096e-02\n",
      "Rel. Error: 2.09208801e-02\n"
     ]
    }
   ],
   "source": [
    "tp = Trapezoid()  # Initialize a trapezoid solver\n",
    "result = tp.integrate(f_2, dim=10, N=N, integration_domain=integration_domain)\n",
    "print_error(result, solution)"
   ]
  },
  {
   "cell_type": "code",
   "execution_count": 27,
   "metadata": {},
   "outputs": [
    {
     "name": "stdout",
     "output_type": "stream",
     "text": [
      "Results: 4.598623275756836\n",
      "Abs. Error: 1.64604187e-03\n",
      "Rel. Error: 3.58070480e-04\n"
     ]
    }
   ],
   "source": [
    "simp = Simpson()  # Initialize Simpson solver\n",
    "result = simp.integrate(f_2, dim=10, N=N, integration_domain=integration_domain)\n",
    "print_error(result, solution)"
   ]
  },
  {
   "cell_type": "code",
   "execution_count": 43,
   "metadata": {},
   "outputs": [
    {
     "name": "stdout",
     "output_type": "stream",
     "text": [
      "Results: 4.596974849700928\n",
      "Abs. Error: 2.38418579e-06\n",
      "Rel. Error: 5.18642082e-07\n"
     ]
    }
   ],
   "source": [
    "boole = Boole()  # Initialize Boole solver\n",
    "result = boole.integrate(f_2, dim=10, N=N, integration_domain=integration_domain)\n",
    "print_error(result,solution)"
   ]
  },
  {
   "cell_type": "code",
   "execution_count": 29,
   "metadata": {},
   "outputs": [
    {
     "name": "stdout",
     "output_type": "stream",
     "text": [
      "Results: 4.596116065979004\n",
      "Abs. Error: 8.61167908e-04\n",
      "Rel. Error: 1.87333513e-04\n"
     ]
    }
   ],
   "source": [
    "mc = MonteCarlo()\n",
    "result = mc.integrate(f_2, dim=10, N=N, integration_domain=integration_domain, seed=42)\n",
    "print_error(result, solution)"
   ]
  },
  {
   "cell_type": "code",
   "execution_count": 30,
   "metadata": {},
   "outputs": [
    {
     "name": "stdout",
     "output_type": "stream",
     "text": [
      "Results: 4.59611701965332\n",
      "Abs. Error: 8.60214233e-04\n",
      "Rel. Error: 1.87126061e-04\n"
     ]
    }
   ],
   "source": [
    "vegas = VEGAS()\n",
    "result = vegas.integrate(f_2, dim=10, N=N, integration_domain=integration_domain)\n",
    "print_error(result, solution)"
   ]
  },
  {
   "cell_type": "code",
   "execution_count": 31,
   "metadata": {},
   "outputs": [
    {
     "name": "stderr",
     "output_type": "stream",
     "text": [
      "\u001b[32m14:40:33\u001b[0m|TQ-\u001b[34mWARNING\u001b[0m| \u001b[33m\u001b[1mError enabling CUDA. cuda.is_available() returned False. CPU will be used.\u001b[0m\n"
     ]
    },
    {
     "name": "stdout",
     "output_type": "stream",
     "text": [
      "Gradient result for MonteCarlo: tensor([[-1.9827745807,  2.0195745807]])\n",
      "Gradient result for Trapezoid: tensor([[-2.0000000200,  2.0000000200]])\n"
     ]
    }
   ],
   "source": [
    "import torch\n",
    "from torchquad import MonteCarlo, Trapezoid, set_up_backend\n",
    "\n",
    "def test_function(x):\n",
    "    \"\"\"V shaped test function.\"\"\"\n",
    "    return 2 * torch.abs(x)\n",
    "\n",
    "set_up_backend(\"torch\", data_type=\"float64\")\n",
    "# Number of function evaluations\n",
    "N = 10000\n",
    "\n",
    "# Calculate a gradient with the MonteCarlo integrator\n",
    "# Define the integrator\n",
    "integrator_mc = MonteCarlo()\n",
    "# Integration domain\n",
    "domain = torch.tensor([[-1.0, 1.0]])\n",
    "# Enable the creation of a computational graph for gradient calculation.\n",
    "domain.requires_grad = True\n",
    "# Calculate the 1-D integral by using the previously defined test_function\n",
    "# with MonteCarlo; set a RNG seed to get reproducible results\n",
    "result_mc = integrator_mc.integrate(\n",
    "    test_function, dim=1, N=N, integration_domain=domain, seed=0\n",
    ")\n",
    "# Compute the gradient with a backward pass\n",
    "result_mc.backward()\n",
    "gradient_mc = domain.grad\n",
    "\n",
    "# Calculate a gradient analogously with the composite Trapezoid integrator\n",
    "integrator_tp = Trapezoid()\n",
    "domain = torch.tensor([[-1.0, 1.0]])\n",
    "domain.requires_grad = True\n",
    "result_tp = integrator_tp.integrate(\n",
    "    test_function, dim=1, N=N, integration_domain=domain\n",
    ")\n",
    "result_tp.backward()\n",
    "gradient_tp = domain.grad\n",
    "\n",
    "# Show the results\n",
    "print(f\"Gradient result for MonteCarlo: {gradient_mc}\")\n",
    "print(f\"Gradient result for Trapezoid: {gradient_tp}\")"
   ]
  },
  {
   "cell_type": "code",
   "execution_count": 44,
   "metadata": {},
   "outputs": [
    {
     "name": "stderr",
     "output_type": "stream",
     "text": [
      "\u001b[32m14:41:41\u001b[0m|TQ-\u001b[34mWARNING\u001b[0m| \u001b[33m\u001b[1mError enabling CUDA. cuda.is_available() returned False. CPU will be used.\u001b[0m\n"
     ]
    },
    {
     "name": "stdout",
     "output_type": "stream",
     "text": [
      "Uncompiled times: [0.025103393010795116, 0.01334410603158176, 0.013418554794043303, 0.013149826088920236, 0.02274630288593471]\n",
      "Partly compiled times: [0.24252887489274144, 0.013059029821306467, 0.013157336041331291, 0.013171280967071652, 0.013813274912536144]\n",
      "All compiled times: [0.17178457602858543, 0.014636202016845345, 0.013542275177314878, 0.013357521034777164, 0.013316778931766748]\n",
      "Speedup factors: [(1.0, 0.10350682170070309, 0.14613298580786346), (1.0, 1.0218298153979384, 0.9117191752493943), (1.0, 1.0198534682014233, 0.9908641360737652), (1.0, 0.9983710864413982, 0.9844510859974556), (1.0, 1.6466987756315092, 1.708093451313075)]\n"
     ]
    }
   ],
   "source": [
    "import time\n",
    "import torch\n",
    "from torchquad import Boole, set_up_backend\n",
    "\n",
    "\n",
    "def example_integrand(x):\n",
    "    return torch.sum(torch.sin(x), dim=1)\n",
    "\n",
    "\n",
    "set_up_backend(\"torch\", data_type=\"float32\")\n",
    "N = 912673\n",
    "dim = 3\n",
    "integrator = Boole()\n",
    "domains = [torch.tensor([[-1.0, y]] * dim) for y in range(5)]\n",
    "\n",
    "# Integrate without compilation\n",
    "times_uncompiled = []\n",
    "for integration_domain in domains:\n",
    "    t0 = time.perf_counter()\n",
    "    integrator.integrate(example_integrand, dim, N, integration_domain)\n",
    "    times_uncompiled.append(time.perf_counter() - t0)\n",
    "\n",
    "# Integrate with partial compilation\n",
    "integrate_jit_compiled_parts = integrator.get_jit_compiled_integrate(\n",
    "    dim, N, backend=\"torch\"\n",
    ")\n",
    "times_compiled_parts = []\n",
    "for integration_domain in domains:\n",
    "    t0 = time.perf_counter()\n",
    "    integrate_jit_compiled_parts(example_integrand, integration_domain)\n",
    "    times_compiled_parts.append(time.perf_counter() - t0)\n",
    "\n",
    "# Integrate with everything compiled\n",
    "times_compiled_all = []\n",
    "integrate_compiled = None\n",
    "for integration_domain in domains:\n",
    "    t0 = time.perf_counter()\n",
    "    if integrate_compiled is None:\n",
    "        integrate_compiled = torch.jit.trace(\n",
    "            lambda dom: integrator.integrate(example_integrand, dim, N, dom),\n",
    "            (integration_domain,),\n",
    "        )\n",
    "    integrate_compiled(integration_domain)\n",
    "    times_compiled_all.append(time.perf_counter() - t0)\n",
    "\n",
    "print(f\"Uncompiled times: {times_uncompiled}\")\n",
    "print(f\"Partly compiled times: {times_compiled_parts}\")\n",
    "print(f\"All compiled times: {times_compiled_all}\")\n",
    "speedups = [\n",
    "    (1.0, tu / tcp, tu / tca)\n",
    "    for tu, tcp, tca in zip(times_uncompiled, times_compiled_parts, times_compiled_all)\n",
    "]\n",
    "print(f\"Speedup factors: {speedups}\")"
   ]
  },
  {
   "cell_type": "code",
   "execution_count": 33,
   "metadata": {},
   "outputs": [
    {
     "name": "stdout",
     "output_type": "stream",
     "text": [
      "Quadrature results: 3.2697949409484863, 1.4161455631256104\n"
     ]
    }
   ],
   "source": [
    "import torch\n",
    "from torchquad import Boole\n",
    "\n",
    "def integrand1(x):\n",
    "    return torch.sin(x[:, 0]) + torch.exp(x[:, 1])\n",
    "\n",
    "def integrand2(x):\n",
    "    return torch.prod(torch.cos(x), dim=1)\n",
    "\n",
    "# The integration domain, dimensionality and number of evaluations\n",
    "# For the calculate_grid method we need a Tensor and not a list.\n",
    "integration_domain = torch.Tensor([[0.0, 1.0], [-1.0, 1.0]])\n",
    "dim = 2\n",
    "N = 9409\n",
    "\n",
    "# Initialize the integrator\n",
    "integrator = Boole()\n",
    "# Calculate sample points and grid information for the result calculation\n",
    "grid_points, hs, n_per_dim = integrator.calculate_grid(N, integration_domain)\n",
    "\n",
    "# Integrate the first integrand with the sample points\n",
    "function_values, _ = integrator.evaluate_integrand(integrand1, grid_points)\n",
    "integral1 = integrator.calculate_result(function_values, dim, n_per_dim, hs, integration_domain)\n",
    "\n",
    "# Integrate the second integrand with the same sample points\n",
    "function_values, _ = integrator.evaluate_integrand(integrand2, grid_points)\n",
    "integral2 = integrator.calculate_result(function_values, dim, n_per_dim, hs, integration_domain)\n",
    "\n",
    "print(f\"Quadrature results: {integral1}, {integral2}\")"
   ]
  },
  {
   "cell_type": "code",
   "execution_count": 34,
   "metadata": {},
   "outputs": [],
   "source": [
    "def parametrized_integrand(x, a, b):\n",
    "    return torch.sqrt(torch.cos(torch.sin((a + b) * x)))\n",
    "\n",
    "a_params = torch.arange(40)\n",
    "b_params = torch.arange(10, 20)\n",
    "integration_domain = torch.Tensor([[0, 1]])\n",
    "simp = Simpson()\n",
    "result = torch.stack([torch.Tensor([simp.integrate(lambda x: parametrized_integrand(x, a, b), dim=1, N=101, integration_domain=integration_domain) for a in a_params]) for b in b_params])"
   ]
  },
  {
   "cell_type": "code",
   "execution_count": 35,
   "metadata": {},
   "outputs": [
    {
     "data": {
      "text/plain": [
       "tensor(True)"
      ]
     },
     "execution_count": 35,
     "metadata": {},
     "output_type": "execute_result"
    }
   ],
   "source": [
    "grid = torch.stack([torch.Tensor([a + b for a in a_params]) for b in b_params])\n",
    "\n",
    "def integrand(x):\n",
    "    return torch.sqrt(torch.cos(torch.sin(torch.einsum(\"i,jk->ijk\", x.flatten(), grid))))\n",
    "\n",
    "result_vectorized = simp.integrate(integrand, dim=1, N=101, integration_domain=integration_domain)\n",
    "\n",
    "torch.all(torch.isclose(result_vectorized, result)) # True!"
   ]
  },
  {
   "cell_type": "code",
   "execution_count": 45,
   "metadata": {},
   "outputs": [
    {
     "data": {
      "text/plain": [
       "tensor(1.7724538509, dtype=torch.float64)"
      ]
     },
     "execution_count": 45,
     "metadata": {},
     "output_type": "execute_result"
    }
   ],
   "source": [
    "import scipy\n",
    "from torchquad import Gaussian\n",
    "from autoray import numpy as anp\n",
    "\n",
    "class GaussHermite(Gaussian):\n",
    "    \"\"\"\n",
    "    Gauss Hermite quadrature rule in torch, for integrals of the form :math:`\\\\int_{-\\\\infty}^{+\\\\infty} e^{-x^{2}} f(x) dx`. It will correctly integrate\n",
    "    polynomials of degree :math:`2n - 1` or less over the interval\n",
    "    :math:`[-\\\\infty, \\\\infty]` with weight function :math:`f(x) = e^{-x^2}`. See https://en.wikipedia.org/wiki/Gauss%E2%80%93Hermite_quadrature\n",
    "    \"\"\"\n",
    "\n",
    "    def __init__(self):\n",
    "        super().__init__()\n",
    "        self.name = \"Gauss-Hermite\"\n",
    "        self._root_fn = scipy.special.roots_hermite\n",
    "\n",
    "    @staticmethod\n",
    "    def _apply_composite_rule(cur_dim_areas, dim, hs, domain):\n",
    "        \"\"\"Apply \"composite\" rule for gaussian integrals\n",
    "        cur_dim_areas will contain the areas per dimension\n",
    "        \"\"\"\n",
    "        # We collapse dimension by dimension\n",
    "        for _ in range(dim):\n",
    "            cur_dim_areas = anp.sum(cur_dim_areas, axis=len(cur_dim_areas.shape) - 1)\n",
    "        return cur_dim_areas\n",
    "\n",
    "gh=GaussHermite()\n",
    "integral=gh.integrate(lambda x: 1-x,dim=1,N=2000) #integral from -inf to inf of np.exp(-(x**2))*(1-x)\n",
    "# Computed integral was 1.7724538509055168.\n",
    "# analytic result = sqrt(pi)\n",
    "integral"
   ]
  },
  {
   "cell_type": "code",
   "execution_count": 37,
   "metadata": {},
   "outputs": [],
   "source": [
    "# conda install \"cudatoolkit>=11.1\" \"pytorch>=1.9=*cuda*\" -c conda-forge -c pytorch\n",
    "# conda install torchquad -c conda-forge"
   ]
  },
  {
   "cell_type": "code",
   "execution_count": null,
   "metadata": {},
   "outputs": [],
   "source": []
  },
  {
   "cell_type": "code",
   "execution_count": null,
   "metadata": {},
   "outputs": [],
   "source": []
  }
 ],
 "metadata": {
  "kernelspec": {
   "display_name": "base",
   "language": "python",
   "name": "python3"
  },
  "language_info": {
   "codemirror_mode": {
    "name": "ipython",
    "version": 3
   },
   "file_extension": ".py",
   "mimetype": "text/x-python",
   "name": "python",
   "nbconvert_exporter": "python",
   "pygments_lexer": "ipython3",
   "version": "3.11.5"
  }
 },
 "nbformat": 4,
 "nbformat_minor": 2
}
