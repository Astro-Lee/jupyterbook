{
 "cells": [
  {
   "cell_type": "code",
   "execution_count": 1,
   "metadata": {},
   "outputs": [
    {
     "name": "stderr",
     "output_type": "stream",
     "text": [
      "\u001b[32m20:25:50\u001b[0m|TQ-\u001b[34mWARNING\u001b[0m| \u001b[33m\u001b[1mError enabling CUDA. cuda.is_available() returned False. CPU will be used.\u001b[0m\n"
     ]
    }
   ],
   "source": [
    "import numpy as np\n",
    "import matplotlib.pyplot as plt\n",
    "import ipywidgets as widgets\n",
    "\n",
    "# To avoid copying things to GPU memory,\n",
    "# ideally allocate everything in torch on the GPU\n",
    "# and avoid non-torch function calls\n",
    "import torch\n",
    "torch.set_printoptions(precision=8) # Set displayed output precision to 10 digits\n",
    "# Use this to enable GPU support and set the floating point precision\n",
    "\n",
    "from torchquad import set_up_backend  # Necessary to enable GPU support\n",
    "set_up_backend(backend=\"torch\", data_type=\"float32\")\n",
    "from torchquad import Trapezoid, Simpson, Boole, GaussLegendre, MonteCarlo, VEGAS # The available integrators"
   ]
  },
  {
   "cell_type": "code",
   "execution_count": 2,
   "metadata": {},
   "outputs": [],
   "source": [
    "kB = 8.61733e-5 # eV / K\n",
    "me_c2 = 510998.92 # eV\n",
    "h = 4.13567e-15 # eV s"
   ]
  },
  {
   "cell_type": "code",
   "execution_count": 18,
   "metadata": {},
   "outputs": [],
   "source": [
    "def Ne(gamma, Te, gamma_th, Ce=1, n=3):\n",
    "    Te = torch.tensor([Te])\n",
    "    gamma_th = torch.tensor(gamma_th)\n",
    "    #gamma = torch.tensor(gamma)\n",
    "    Ce = torch.tensor(Ce)\n",
    "    n = torch.tensor(n)\n",
    "\n",
    "    Theta = kB * Te / me_c2\n",
    "\n",
    "    Ne_tensor = torch.zeros_like(gamma)\n",
    "\n",
    "    for i, i_gamma in enumerate(gamma):\n",
    "        Ne_tensor[i] = Ce*i_gamma**2*torch.exp(-i_gamma/Theta)/(2.*Theta**3) if i_gamma <= gamma_th else Ce*gamma_th**2*torch.exp(-gamma_th/Theta)*(i_gamma/gamma_th)**-n/(2.*Theta**3)\n",
    "    return Ne_tensor\n",
    "\n",
    "def beta(gamma):\n",
    "    return torch.sqrt(1 - 1/gamma**2)\n",
    "\n",
    "def e1(nu,theta,theta2,gamma,phi2):\n",
    "\n",
    "    #nu = torch.tensor(nu)\n",
    "    theta = torch.tensor(theta)\n",
    "    #theta2 = torch.tensor(theta2)\n",
    "    #gamma = torch.tensor(gamma)\n",
    "    #phi2 = torch.tensor(phi2)\n",
    "    \n",
    "    e0 = h*nu#*1e-3 #keV\n",
    "    cos_theta1 = torch.cos(theta)*torch.cos(theta2)+torch.sin(theta)*torch.sin(theta2)*torch.sin(phi2)\n",
    "    \n",
    "    return e0*(1-beta(gamma)*torch.cos(theta2))/(e0/(gamma*me_c2)*(1-torch.cos(theta))+1-beta(gamma)*cos_theta1)"
   ]
  },
  {
   "cell_type": "code",
   "execution_count": 4,
   "metadata": {},
   "outputs": [],
   "source": [
    "gamma = torch.logspace(1, 2, 30)\n",
    "nu = torch.logspace(13, 16, 30)"
   ]
  },
  {
   "cell_type": "code",
   "execution_count": 7,
   "metadata": {},
   "outputs": [],
   "source": [
    "def integrand(x,Te,gamma_th,nu,theta):\n",
    "    # gamma x[:,0]\n",
    "    # theta2 x[:,1]\n",
    "    # phi2 x[:,2]\n",
    "    return Ne(x[:,0], Te, gamma_th)*e1(nu,theta,x[:,1],x[:,0],x[:,2])*torch.sin(x[:,1])\n",
    "\n",
    "def integrand2(x,Te,gamma_th):\n",
    "    return Ne(x[:,0], Te, gamma_th)\n",
    "\n",
    "# The integration domain, dimensionality and number of evaluations\n",
    "# For the calculate_grid method we need a Tensor and not a list.\n",
    "integration_domain = torch.Tensor([[1., 100.], \n",
    "                                   [0., np.pi], \n",
    "                                   [0., 2*np.pi]])\n",
    "dim = 3\n",
    "N = 1024\n",
    "\n",
    "# Initialize the integrator, Trapezoid, Simpson, Boole, GaussLegendre\n",
    "integrator = GaussLegendre()\n",
    "# Calculate sample points and grid information for the result calculation\n",
    "grid_points, hs, n_per_dim = integrator.calculate_grid(N, integration_domain)"
   ]
  },
  {
   "cell_type": "code",
   "execution_count": 19,
   "metadata": {},
   "outputs": [
    {
     "data": {
      "application/vnd.jupyter.widget-view+json": {
       "model_id": "666f5788aba04e0ea4f445255ba261a0",
       "version_major": 2,
       "version_minor": 0
      },
      "text/plain": [
       "VBox(children=(FloatSlider(value=10000000000.0, description='Te', max=100000000000.0, min=100000000.0, step=10…"
      ]
     },
     "metadata": {},
     "output_type": "display_data"
    },
    {
     "data": {
      "application/vnd.jupyter.widget-view+json": {
       "model_id": "0ae1d70f9ac148559d10e5b66168b1e9",
       "version_major": 2,
       "version_minor": 0
      },
      "text/plain": [
       "Output()"
      ]
     },
     "metadata": {},
     "output_type": "display_data"
    }
   ],
   "source": [
    "Te=widgets.FloatSlider(description='Te',min=1e8, max=1e11, step=1e8, value=1e10)\n",
    "gamma_th=widgets.FloatSlider(description='gamma_th',min=1, max=100, step=1, value=20)\n",
    "theta=widgets.FloatSlider(description='theta',min=0, max=np.pi, step=np.pi/16, value=np.pi/4)\n",
    "\n",
    "ui = widgets.VBox([Te, gamma_th, theta])\n",
    "\n",
    "def calc_img(Te, gamma_th, theta):\n",
    "\n",
    "    fig = plt.figure(dpi=100,figsize=(15,5))\n",
    "    ax1 = fig.add_subplot(121)\n",
    "\n",
    "    Ne_tensor = Ne(gamma, Te=Te, gamma_th=gamma_th)\n",
    "    ax1.plot(gamma, Ne_tensor,label=rf'$T_\\mathrm{{e}} = 10^{{{np.log10(Te):.2f}}}$ K')\n",
    "\n",
    "    ax1.axvline(gamma_th, color='k', linestyle='--', label=rf'$\\gamma_\\mathrm{{th}} = {gamma_th:.1f}$')\n",
    "\n",
    "    ax1.set_xlabel(r'$\\gamma$')\n",
    "    ax1.set_ylabel(r'$N_\\mathrm{e}/C_\\mathrm{e}$')\n",
    "    ax1.set_yscale('log')\n",
    "    ax1.legend()\n",
    "\n",
    "    ax2 = fig.add_subplot(122)\n",
    "\n",
    "    function_values, _ = integrator.evaluate_integrand(lambda x: integrand2(x,Te=Te,gamma_th=gamma_th), grid_points)\n",
    "    integral2 = integrator.calculate_result(function_values, dim, n_per_dim, hs, integration_domain)\n",
    "\n",
    "    final_value = []\n",
    "    for i_nu in nu:\n",
    "        function_values, _ = integrator.evaluate_integrand(lambda x: integrand(x,Te=Te,gamma_th=gamma_th,nu=i_nu,theta=theta), grid_points)\n",
    "        integral1 = integrator.calculate_result(function_values, dim, n_per_dim, hs, integration_domain)\n",
    "\n",
    "        final_value.append(integral1/(4*np.pi*integral2))\n",
    "\n",
    "    ax2.plot(nu, final_value,label=fr'$T_\\mathrm{{e}} = 10^{{{np.log10(Te):.2f}}} K, \\gamma_\\mathrm{{th}} = {gamma_th:.1f}, \\theta = {theta:.1f}\\,\\mathrm{{rad}}$')\n",
    "\n",
    "    ax2.set_xlabel(r'$\\nu$')\n",
    "    ax2.set_ylabel(r'$<e1>$')\n",
    "    ax2.set_yscale('log')\n",
    "    ax2.set_xscale('log')\n",
    "    ax2.legend()\n",
    "\n",
    "out = widgets.interactive_output(calc_img, {'Te': Te, 'gamma_th': gamma_th, 'theta':theta})\n",
    "display(ui, out)"
   ]
  },
  {
   "cell_type": "code",
   "execution_count": null,
   "metadata": {},
   "outputs": [],
   "source": []
  }
 ],
 "metadata": {
  "kernelspec": {
   "display_name": "base",
   "language": "python",
   "name": "python3"
  },
  "language_info": {
   "codemirror_mode": {
    "name": "ipython",
    "version": 3
   },
   "file_extension": ".py",
   "mimetype": "text/x-python",
   "name": "python",
   "nbconvert_exporter": "python",
   "pygments_lexer": "ipython3",
   "version": "3.11.5"
  }
 },
 "nbformat": 4,
 "nbformat_minor": 2
}
